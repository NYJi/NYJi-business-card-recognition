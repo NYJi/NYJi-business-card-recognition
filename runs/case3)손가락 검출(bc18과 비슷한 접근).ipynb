{
 "cells": [
  {
   "cell_type": "code",
   "execution_count": null,
   "id": "89b28f89",
   "metadata": {},
   "outputs": [],
   "source": [
    "# 손가락 나오는거 : 20"
   ]
  },
  {
   "cell_type": "code",
   "execution_count": null,
   "id": "82f46b92",
   "metadata": {},
   "outputs": [],
   "source": [
    "##############손가락 검출 성공케이스#######################################"
   ]
  },
  {
   "cell_type": "code",
   "execution_count": 1,
   "id": "cc8f05d1",
   "metadata": {},
   "outputs": [],
   "source": [
    "import cv2\n",
    "import numpy as np\n",
    "\n",
    "# 이미지를 로드합니다.\n",
    "img = cv2.imread(\"C:/Users/Yunji Noh/OneDrive/image_processing/data/BC20.jpg\")"
   ]
  },
  {
   "cell_type": "code",
   "execution_count": 2,
   "id": "e17a788a",
   "metadata": {},
   "outputs": [],
   "source": [
    "def img_process(img):\n",
    "    gray = cv2.cvtColor(img, cv2.COLOR_BGR2GRAY)\n",
    "    blur = cv2.GaussianBlur(gray, (13, 13), 0)\n",
    "    \n",
    "    ret, dst = cv2.threshold(blur, 212, 240, cv2.THRESH_BINARY)\n",
    "    \n",
    "    # 구조 요소 생성\n",
    "    kernel = np.ones((9, 9), np.uint8)  # 구조 요소 크기와 형태 지정 (조정 가능)\n",
    "    \n",
    "    # 팽창 연산 적용\n",
    "    dilated_image = cv2.dilate(dst, kernel, iterations=1)\n",
    "\n",
    "    \n",
    "    # 윤곽선 찾기\n",
    "    contours, _ = cv2.findContours(dilated_image, cv2.RETR_EXTERNAL, cv2.CHAIN_APPROX_SIMPLE)\n",
    "\n",
    "    # 새로운 캔버스 생성\n",
    "    canvas = np.zeros_like(img)\n",
    "\n",
    "    # 면적이 원본 이미지의 10% 이상인 윤곽선 그리기\n",
    "    for contour in contours:\n",
    "        area = cv2.contourArea(contour)\n",
    "        if area > 0.2* img.shape[0] * img.shape[1]:\n",
    "            # 윤곽선 근사화\n",
    "            epsilon = 0.03 * cv2.arcLength(contour, True)\n",
    "            approx = cv2.approxPolyDP(contour, epsilon, True)\n",
    "            cv2.drawContours(canvas, [approx], -1, (0, 255, 0), 2)\n",
    "            \n",
    "    # 원근 변환 적용\n",
    "    src_pts = np.float32(approx)\n",
    "    dst_pts = np.float32([[0, 0], [0, img.shape[0]], [img.shape[1], img.shape[0]],[img.shape[1], 0]])\n",
    "    matrix = cv2.getPerspectiveTransform(src_pts, dst_pts)\n",
    "    warped_image = cv2.warpPerspective(img, matrix, (img.shape[1], img.shape[0])) #flags=cv2.INTER_CUBIC\n",
    "    #sharp = cv2.filter2D(warped_image, -1, np.array([[-1, -1, -1], [-1, 9, -1], [-1, -1, -1]]))\n",
    "    \n",
    "    # 이미지 크기 조정\n",
    "    resized_image = cv2.resize(warped_image, (400, 200))\n",
    "    #resized_img = cv2.resize(sharp, (400, 200))\n",
    "    \n",
    "    #결과 폴더 저장\n",
    "    cv2.imwrite(\"C:/Users/Yunji Noh/OneDrive/image_processing/results/final_image/BC20.jpg\", resized_img )\n",
    "    cv2.imwrite(\"C:/Users/Yunji Noh/OneDrive/image_processing/results/final_image(sharp(x))/BC20.jpg\", resized_image)\n",
    "    #cv2.imwrite(\"C:/Users/Yunji Noh/OneDrive/image_processing/project_mid/image_cubic/BC20_cubic.jpg\", resized_image)\n",
    "    \n",
    "    # 결과 이미지 출력\n",
    "    cv2.imshow(\"final Image\", resized_img)\n",
    "    cv2.imshow('Contours', canvas)\n",
    "    cv2.imshow('dilated_image.jpg', dilated_image)\n",
    "    cv2.waitKey(0)\n",
    "    cv2.destroyAllWindows()"
   ]
  },
  {
   "cell_type": "code",
   "execution_count": 3,
   "id": "96d6bffc",
   "metadata": {},
   "outputs": [],
   "source": [
    "img_process(img)"
   ]
  },
  {
   "cell_type": "code",
   "execution_count": null,
   "id": "549c5725",
   "metadata": {},
   "outputs": [],
   "source": [
    "\n"
   ]
  },
  {
   "cell_type": "code",
   "execution_count": null,
   "id": "1fcc3141",
   "metadata": {},
   "outputs": [],
   "source": [
    "##############################실패 케이스############################################"
   ]
  },
  {
   "cell_type": "code",
   "execution_count": null,
   "id": "6133dabe",
   "metadata": {},
   "outputs": [],
   "source": [
    "import cv2\n",
    "import numpy as np\n",
    "\n",
    "# 이미지를 로드합니다.\n",
    "img = cv2.imread(\"C:/Users/Yunji Noh/OneDrive/image_processing/data/BC20.jpg\")\n",
    "\n",
    "# 이미지 전처리\n",
    "gray = cv2.cvtColor(img, cv2.COLOR_BGR2GRAY)\n",
    "blur = cv2.GaussianBlur(gray, (11, 11), 0)\n",
    "\n",
    "# Canny 엣지 검출을 수행합니다.\n",
    "edges = cv2.Canny(blur, 80, 130)\n",
    "\n",
    "# 팽창과 침식을 위한 커널 생성\n",
    "kernel = np.ones((7,7), np.uint8)\n",
    "\n",
    "# 닫기 연산 수행\n",
    "closed = cv2.morphologyEx(edges, cv2.MORPH_CLOSE, kernel)\n",
    "\n",
    "# 윤곽선 검출\n",
    "contours, _ = cv2.findContours(closed, cv2.RETR_EXTERNAL, cv2.CHAIN_APPROX_SIMPLE)\n",
    "\n",
    "# 명함으로 추정되는 윤곽선을 그리기 위한 캔버스 생성\n",
    "canvas = np.zeros_like(img)\n",
    "\n",
    "# 윤곽선을 순회하며 명함으로 추정되는 윤곽선을 캔버스에 그립니다.\n",
    "for contour in contours:\n",
    "    area = cv2.contourArea(contour)\n",
    "    if area > img.shape[0] * img.shape[1] * 0.1:  # 윤곽선 면적이 원본 이미지의 10% 이상인 경우\n",
    "        cv2.drawContours(canvas, [contour], -1, (0, 0, 255), 2)\n",
    "\n",
    "# 결과 이미지 출력\n",
    "cv2.imshow(\"Detected Business Card\", canvas)\n",
    "cv2.waitKey(0)\n",
    "cv2.destroyAllWindows()\n"
   ]
  },
  {
   "cell_type": "code",
   "execution_count": null,
   "id": "5f9f4bd4",
   "metadata": {},
   "outputs": [],
   "source": []
  },
  {
   "cell_type": "code",
   "execution_count": null,
   "id": "616325f1",
   "metadata": {},
   "outputs": [],
   "source": []
  },
  {
   "cell_type": "code",
   "execution_count": null,
   "id": "d6359c3e",
   "metadata": {},
   "outputs": [],
   "source": [
    "######################실패케이스2 -> 원근변환 실패#################################"
   ]
  },
  {
   "cell_type": "code",
   "execution_count": null,
   "id": "5c7e0762",
   "metadata": {},
   "outputs": [],
   "source": [
    "import cv2\n",
    "import numpy as np\n",
    "\n",
    "# 이미지를 로드합니다.\n",
    "img = cv2.imread(\"C:/Users/Yunji Noh/OneDrive/image_processing/data/BC20.jpg\")"
   ]
  },
  {
   "cell_type": "code",
   "execution_count": null,
   "id": "272f29b3",
   "metadata": {},
   "outputs": [],
   "source": [
    "def img_process(img):\n",
    "    gray = cv2.cvtColor(img, cv2.COLOR_BGR2GRAY)\n",
    "    blur = cv2.GaussianBlur(gray, (11, 11), 0)\n",
    "    \n",
    "    # 엣지 검출\n",
    "    thres1 = 85\n",
    "    thres2 = 95\n",
    "    edge = cv2.Canny(blur, thres1, thres2)\n",
    "    \n",
    "    # 닫기 연산을 위한 구조 요소 생성\n",
    "    kernel = np.ones((3, 3), np.uint8)\n",
    "    \n",
    "    # 닫기 연산 수행\n",
    "    closed = cv2.morphologyEx(edge, cv2.MORPH_CLOSE, kernel)\n",
    "    \n",
    "    # 컨투어 검출\n",
    "    contours, _ = cv2.findContours(closed, cv2.RETR_TREE, cv2.CHAIN_APPROX_SIMPLE)\n",
    "    \n",
    "    # warped 이미지들을 저장할 리스트 생성\n",
    "    warped_images = []\n",
    "    \n",
    "    # 컨투어 그리기 및 원근 변환\n",
    "    for contour in contours:\n",
    "        # 컨투어의 면적 계산\n",
    "        area = cv2.contourArea(contour)\n",
    "        \n",
    "        # 컨투어의 길이 계산\n",
    "        length = cv2.arcLength(contour, True)\n",
    "        \n",
    "        # 면적이 너무 작거나 길이가 작은 컨투어 제외\n",
    "        if area > 150 and length > 250:\n",
    "            # 컨투어를 감싸는 최소한의 사각형 구하기\n",
    "            rect = cv2.minAreaRect(contour)\n",
    "            box = cv2.boxPoints(rect)\n",
    "            box = np.int0(box)\n",
    "            \n",
    "            # 원근 변환을 위한 좌표 설정\n",
    "            src_pts = box.astype(np.float32)\n",
    "            dst_pts = np.array([[0, 300],[0, 0],[400, 0], [400, 300] ], dtype=np.float32)\n",
    "            \n",
    "            # 원근 변환 행렬 계산\n",
    "            M = cv2.getPerspectiveTransform(src_pts, dst_pts)\n",
    "            \n",
    "            # 원근 변환 적용\n",
    "            warped = cv2.warpPerspective(img, M, (400, 300))\n",
    "            \n",
    "            # 변환 결과를 리스트에 저장\n",
    "            warped_images.append(warped)\n",
    "            \n",
    "    # 원하는 순서의 이미지 선택하여 출력\n",
    "    if len(warped_images) > 1:\n",
    "        desired_index = 2  # 원하는 순서의 이미지 인덱스 선택\n",
    "        cv2.imshow('Warped Image', warped_images[desired_index])\n",
    "        cv2.waitKey(0)\n",
    "        cv2.destroyAllWindows()\n",
    "    \n",
    "    # 결과 출력\n",
    "    cv2.imshow('Contours', img)\n",
    "    cv2.waitKey(0)\n",
    "    cv2.destroyAllWindows()\n",
    "    \n"
   ]
  },
  {
   "cell_type": "code",
   "execution_count": null,
   "id": "bcd2526d",
   "metadata": {},
   "outputs": [],
   "source": [
    "img_process(img)"
   ]
  },
  {
   "cell_type": "code",
   "execution_count": null,
   "id": "70c67c64",
   "metadata": {},
   "outputs": [],
   "source": []
  }
 ],
 "metadata": {
  "kernelspec": {
   "display_name": "Python 3 (ipykernel)",
   "language": "python",
   "name": "python3"
  },
  "language_info": {
   "codemirror_mode": {
    "name": "ipython",
    "version": 3
   },
   "file_extension": ".py",
   "mimetype": "text/x-python",
   "name": "python",
   "nbconvert_exporter": "python",
   "pygments_lexer": "ipython3",
   "version": "3.9.13"
  }
 },
 "nbformat": 4,
 "nbformat_minor": 5
}
