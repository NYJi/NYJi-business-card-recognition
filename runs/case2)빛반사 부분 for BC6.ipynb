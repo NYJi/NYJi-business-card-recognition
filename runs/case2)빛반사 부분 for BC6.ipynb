{
 "cells": [
  {
   "cell_type": "code",
   "execution_count": 1,
   "id": "654c5d2c",
   "metadata": {},
   "outputs": [],
   "source": [
    "import cv2\n",
    "import numpy as np\n",
    "import random\n",
    "\n",
    "img1 = \"C:/Users/Yunji Noh/OneDrive/image_processing/data/BC1.jpg\"\n",
    "img2= \"C:/Users/Yunji Noh/OneDrive/image_processing/data/BC2.jpg\"\n",
    "img3= \"C:/Users/Yunji Noh/OneDrive/image_processing/data/BC3.jpg\"\n",
    "img4 = \"C:/Users/Yunji Noh/OneDrive/image_processing/data/BC4.jpg\"\n",
    "img5= \"C:/Users/Yunji Noh/OneDrive/image_processing/data/BC5.jpg\"\n",
    "img6 = \"C:/Users/Yunji Noh/OneDrive/image_processing/data/BC6.jpg\"\n",
    "img7= \"C:/Users/Yunji Noh/OneDrive/image_processing/data/BC7.jpg\"\n",
    "img8= \"C:/Users/Yunji Noh/OneDrive/image_processing/data/BC8.jpg\"\n",
    "img9 = \"C:/Users/Yunji Noh/OneDrive/image_processing/data/BC9.jpg\"\n",
    "img10 =\"C:/Users/Yunji Noh/OneDrive/image_processing/data/BC10.jpg\"\n",
    "img11 = \"C:/Users/Yunji Noh/OneDrive/image_processing/data/BC11.jpg\"                                                     \n",
    "img12 = \"C:/Users/Yunji Noh/OneDrive/image_processing/data/BC12.jpg\"\n",
    "img13 = \"C:/Users/Yunji Noh/OneDrive/image_processing/data/BC13.jpg\"\n",
    "img14 = \"C:/Users/Yunji Noh/OneDrive/image_processing/data/BC14.jpg\"\n",
    "img15 = \"C:/Users/Yunji Noh/OneDrive/image_processing/data/BC15.jpg\"\n",
    "img16 = \"C:/Users/Yunji Noh/OneDrive/image_processing/data/BC16.jpg\"\n",
    "img17 = \"C:/Users/Yunji Noh/OneDrive/image_processing/data/BC17.jpg\"\n",
    "img18 = \"C:/Users/Yunji Noh/OneDrive/image_processing/data/BC18.jpg\"\n",
    "img19 = \"C:/Users/Yunji Noh/OneDrive/image_processing/data/BC19.jpg\"\n",
    "img20 = \"C:/Users/Yunji Noh/OneDrive/image_processing/data/BC20.jpg\"\n",
    "img21 = \"C:/Users/Yunji Noh/OneDrive/image_processing/data/BC21.jpg\"\n",
    "\n",
    "\n",
    "pictures = [img1, img2, img3, img4, img5, img6, img7, img8, img9, img10, img11, img12, img13, img14, img15, img16, img17, img18, img19, img20, img21]\n",
    "\n",
    "# 원하는 사진 선택 (0번 인덱스부터 시작하므로 원하는 사진 - 1)\n",
    "img= cv2.imread(pictures[5])\n"
   ]
  },
  {
   "cell_type": "code",
   "execution_count": 2,
   "id": "fe787b28",
   "metadata": {},
   "outputs": [],
   "source": [
    "\n",
    "# 이미지를 그레이스케일로 변환\n",
    "gray = cv2.cvtColor(img, cv2.COLOR_BGR2GRAY)\n",
    "\n",
    "# 밝기 임계값 설정\n",
    "threshold = 235  # 조명 영역을 판별하기 위한 임계값\n",
    "\n",
    "# 임계값 이상인 픽셀을 어두운 색(0, 0, 0)으로 변환\n",
    "dark_pixels = gray > threshold\n",
    "img[dark_pixels] = (100, 100, 100)\n",
    "\n",
    "# blur 처리\n",
    "blur = cv2.GaussianBlur(img, (17, 17), 0)\n",
    "\n",
    "edge = cv2.Canny(blur, 120, 200)\n",
    "\n",
    "_, src_bin = cv2.threshold(edge, 0, 255, cv2.THRESH_BINARY | cv2.THRESH_OTSU)\n",
    "\n",
    "kernel = np.ones((5, 5), np.uint8)\n",
    "closed = cv2.morphologyEx(src_bin, cv2.MORPH_CLOSE, kernel)\n",
    "\n",
    "\n",
    "# 외곽선 검출\n",
    "contours, _ = cv2.findContours(closed, cv2.RETR_EXTERNAL, cv2.CHAIN_APPROX_SIMPLE)\n",
    "\n",
    "# 가장 외곽에 있는 외곽선 선택\n",
    "outer_contour = max(contours, key=cv2.contourArea)\n",
    "\n",
    "# 외곽선을 그리기 위한 캔버스 생성\n",
    "canvas = np.zeros_like(img)\n",
    "\n",
    "# 외곽선 그리기\n",
    "cv2.drawContours(canvas, [outer_contour], -1, (0, 0, 255), 2)\n",
    "\n",
    "\n",
    "# 꼭짓점 추출\n",
    "epsilon = 0.02 * cv2.arcLength(outer_contour, True)\n",
    "approx = cv2.approxPolyDP(outer_contour, epsilon, True)\n",
    "approx = approx.reshape(-1, 2)  # (4, 1, 2) 형태를 (4, 2)로 변환\n",
    "\n",
    "w = 400\n",
    "h = 200\n",
    "\n",
    "# 변환된 이미지에서의 꼭짓점 좌표\n",
    "dst_points = np.float32([[0, 0], [0, h], [w, h],[w, 0] ])\n",
    "\n",
    "# 원근 변환 행렬 계산\n",
    "perspective_matrix, _ = cv2.findHomography(approx, dst_points)\n",
    "\n",
    "# 원근 변환 적용\n",
    "warped = cv2.warpPerspective(img, perspective_matrix, (w, h), flags=cv2.INTER_CUBIC)\n",
    "sharp = cv2.filter2D(warped, -1, np.array([[-1, -1, -1], [-1, 9, -1], [-1, -1, -1]]))\n",
    "\n",
    "# 결과 출력\n",
    "cv2.imshow('dark', img)\n",
    "cv2.imshow('Outer Contour', canvas)\n",
    "cv2.imshow('sharped Image', sharp)\n",
    "cv2.waitKey(0)\n",
    "cv2.destroyAllWindows()\n"
   ]
  },
  {
   "cell_type": "code",
   "execution_count": 3,
   "id": "9789c74c",
   "metadata": {},
   "outputs": [
    {
     "data": {
      "text/plain": [
       "True"
      ]
     },
     "execution_count": 3,
     "metadata": {},
     "output_type": "execute_result"
    }
   ],
   "source": [
    "cv2.imwrite(\"C:/Users/Yunji Noh/OneDrive/image_processing/project_mid/final_image/BC6.jpg\", sharp)"
   ]
  },
  {
   "cell_type": "code",
   "execution_count": 5,
   "id": "b42cbdda",
   "metadata": {},
   "outputs": [
    {
     "data": {
      "text/plain": [
       "True"
      ]
     },
     "execution_count": 5,
     "metadata": {},
     "output_type": "execute_result"
    }
   ],
   "source": [
    "cv2.imwrite(\"C:/Users/Yunji Noh/OneDrive/image_processing/project_mid/final_image(sharp(x))/BC6.jpg\", warped)"
   ]
  },
  {
   "cell_type": "code",
   "execution_count": 14,
   "id": "e3c20bca",
   "metadata": {},
   "outputs": [
    {
     "data": {
      "text/plain": [
       "True"
      ]
     },
     "execution_count": 14,
     "metadata": {},
     "output_type": "execute_result"
    }
   ],
   "source": [
    "cv2.imwrite(\"C:/Users/Yunji Noh/OneDrive/image_processing/project_mid/final_image/BC6_cubic.jpg\", warped)\n"
   ]
  },
  {
   "cell_type": "code",
   "execution_count": 12,
   "id": "ad262243",
   "metadata": {},
   "outputs": [
    {
     "data": {
      "text/plain": [
       "True"
      ]
     },
     "execution_count": 12,
     "metadata": {},
     "output_type": "execute_result"
    }
   ],
   "source": [
    "cv2.imwrite(\"C:/Users/Yunji Noh/OneDrive/image_processing/project_mid/final_image/BC6_cubic_sharp.jpg\", sharp)"
   ]
  },
  {
   "cell_type": "code",
   "execution_count": null,
   "id": "85f3ae54",
   "metadata": {},
   "outputs": [],
   "source": []
  }
 ],
 "metadata": {
  "kernelspec": {
   "display_name": "Python 3 (ipykernel)",
   "language": "python",
   "name": "python3"
  },
  "language_info": {
   "codemirror_mode": {
    "name": "ipython",
    "version": 3
   },
   "file_extension": ".py",
   "mimetype": "text/x-python",
   "name": "python",
   "nbconvert_exporter": "python",
   "pygments_lexer": "ipython3",
   "version": "3.9.13"
  }
 },
 "nbformat": 4,
 "nbformat_minor": 5
}
