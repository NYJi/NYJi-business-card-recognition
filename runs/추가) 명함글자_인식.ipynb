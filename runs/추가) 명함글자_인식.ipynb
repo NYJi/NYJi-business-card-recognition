{
 "cells": [
  {
   "cell_type": "code",
   "execution_count": 1,
   "id": "e643e7c3",
   "metadata": {},
   "outputs": [
    {
     "name": "stdout",
     "output_type": "stream",
     "text": [
      "rn08 yop mmonaon\\ urA0BEDsir syespuedusnd \"urAoB@r0p ANo—sE pp: New\n",
      "240000219616» \"GON BSB0C/Z-11-16+ °e4 BSPOCOCZ 'G9GOLLEZ-T-16+ “TL.\n",
      "100 O11 Mia MAN \"PEO EAOUEY 02 \"UEMEUG ZeYDUES ‘Okz1 “ON WOON\n",
      "e1pUI Jo 1ueUIUIEA0D\n",
      "‘SuOneDIUNWOD Jo AaSTUW\n",
      "‘suonesjunuw0s}91 jo weunedeg\n",
      "\n",
      "(ys) 1s0u99 s0}20H Andog\n",
      "su ‘yBuig sewiny eapuedysng e\n",
      "\n"
     ]
    }
   ],
   "source": [
    "import cv2\n",
    "import pytesseract\n",
    "\n",
    "# 언어 데이터 파일 경로 설정\n",
    "tessdata_dir = \"C:\\Program Files\\Tesseract-OCR\\tessdata\"\n",
    "\n",
    "# Tesseract OCR 실행 파일 경로 설정\n",
    "pytesseract.pytesseract.tesseract_cmd = 'C:/Program Files/Tesseract-OCR/tesseract.exe'\n",
    "\n",
    "# 언어 데이터 파일 경로 설정\n",
    "tessdata_config = f'--tessdata-dir \"{tessdata_dir}\"'\n",
    "\n",
    "\n",
    "# 이미지 파일 경로\n",
    "path_no_sharp = \"C:/Users/Yunji Noh/OneDrive/image_processing/results/final_image(sharp(x))/BC3.jpg\"\n",
    "path_cubic= \"C:/Users/Yunji Noh/OneDrive/image_processing/results/image_cubic(+optional_pj)/BC3_cubic.jpg\"\n",
    "\n",
    "path_sharp = \"C:/Users/Yunji Noh/OneDrive/image_processing/results/final_image/BC3.jpg\"\n",
    "\n",
    "\n",
    "# 이미지 불러오기\n",
    "image_no_sharp = cv2.imread(path_no_sharp)\n",
    "image_cubic = cv2.imread(path_cubic)\n",
    "#image_cubic_sharp = cv2.imread(path_cubic_sharp)\n",
    "image_sharp = cv2.imread(path_sharp)\n",
    "\n",
    "# 이미지 전처리 (예시: 그레이스케일 변환)\n",
    "g_image_no_sharp = cv2.cvtColor(image_no_sharp, cv2.COLOR_BGR2GRAY)\n",
    "g_image_cubic = cv2.cvtColor(image_cubic, cv2.COLOR_BGR2GRAY)\n",
    "#g_image_cubic_sharp = cv2.cvtColor(image_cubic_sharp, cv2.COLOR_BGR2GRAY)\n",
    "g_image_sharp = cv2.cvtColor(image_sharp, cv2.COLOR_BGR2GRAY)\n",
    "\n",
    "\n",
    "\n",
    "# 이미지에서 텍스트 인식\n",
    "no_sharp = pytesseract.image_to_string(g_image_no_sharp, lang='eng')\n",
    "cubic = pytesseract.image_to_string(g_image_cubic, lang='eng')\n",
    "#cubic_sharp = pytesseract.image_to_string(g_image_cubic_sharp, lang='eng')\n",
    "sharp = pytesseract.image_to_string(g_image_sharp, lang='eng')\n",
    "\n",
    "\n",
    "cv2.imshow('no_sharp',g_image_no_sharp )\n",
    "cv2.imshow('cubic',g_image_cubic )\n",
    "cv2.imshow('sharp', g_image_sharp)\n",
    "cv2.waitKey(0)\n",
    "cv2.destroyAllWindows()\n",
    "# 인식된 텍스트 출력\n",
    "print(no_sharp)"
   ]
  },
  {
   "cell_type": "code",
   "execution_count": 2,
   "id": "966cff83",
   "metadata": {},
   "outputs": [
    {
     "name": "stdout",
     "output_type": "stream",
     "text": [
      "HOR\n",
      "\n",
      "ce Pushpendra Kumar Singh, ITs\n",
      "Deputy Director General (SA)\n",
      "\n",
      "Department of Telecommunications\n",
      "Ministry of Communications:\n",
      "Government of India\n",
      "Room No. 1210, Sanchar Bhawan, 20 Ashoka Road. New Delni- 110 001\n",
      "‘Tel: #91-11-23716866, 23036458 Fax: +91-11-23730058 Mob.:+91-9412000042\n",
      "‘E-mail: édgsecunty-dot@govin, pushpendraks.ts@govin Web. werw.dot.govin\n",
      "\n"
     ]
    }
   ],
   "source": [
    "print(cubic)\n"
   ]
  },
  {
   "cell_type": "code",
   "execution_count": 3,
   "id": "91c41567",
   "metadata": {},
   "outputs": [
    {
     "name": "stdout",
     "output_type": "stream",
     "text": [
      "i\n",
      "3) Pushpendra Kumar Singh, ITs\n",
      "aA ‘Doputy Director Ganaral (SA)\n",
      "\n",
      "Dapartment of Tolecommunications\n",
      "Ministry of Communications\n",
      "Government of India\n",
      "Room No, 1210, Sanchar Bhawan, 20 Ashoka Road, Now Delhi- 110 001\n",
      "*$91-41-29716666, 23036458 Fax: 491-11-23730858 Mob. +91-9472000042\n",
      "‘E-mail: ddgaccutity-dol@pov‘n, pustipandraks.\\s@govin Wob.:wenw.dol.govin_,\n",
      "\n",
      "\n"
     ]
    }
   ],
   "source": [
    "print(sharp)"
   ]
  },
  {
   "cell_type": "code",
   "execution_count": 4,
   "id": "13a3797e",
   "metadata": {},
   "outputs": [
    {
     "name": "stdout",
     "output_type": "stream",
     "text": [
      "rn08 yop mmonaon\\ urA0BEDsir syespuedusnd \"urAoB@r0p ANo—sE pp: New\n",
      "240000219616» \"GON BSB0C/Z-11-16+ °e4 BSPOCOCZ 'G9GOLLEZ-T-16+ “TL.\n",
      "100 O11 Mia MAN \"PEO EAOUEY 02 \"UEMEUG ZeYDUES ‘Okz1 “ON WOON\n",
      "e1pUI Jo 1ueUIUIEA0D\n",
      "‘SuOneDIUNWOD Jo AaSTUW\n",
      "‘suonesjunuw0s}91 jo weunedeg\n",
      "\n",
      "(ys) 1s0u99 s0}20H Andog\n",
      "su ‘yBuig sewiny eapuedysng e\n",
      "\n"
     ]
    }
   ],
   "source": [
    "print(no_sharp)"
   ]
  },
  {
   "cell_type": "code",
   "execution_count": null,
   "id": "daf75b6c",
   "metadata": {},
   "outputs": [],
   "source": []
  }
 ],
 "metadata": {
  "kernelspec": {
   "display_name": "Python 3 (ipykernel)",
   "language": "python",
   "name": "python3"
  },
  "language_info": {
   "codemirror_mode": {
    "name": "ipython",
    "version": 3
   },
   "file_extension": ".py",
   "mimetype": "text/x-python",
   "name": "python",
   "nbconvert_exporter": "python",
   "pygments_lexer": "ipython3",
   "version": "3.9.13"
  }
 },
 "nbformat": 4,
 "nbformat_minor": 5
}
